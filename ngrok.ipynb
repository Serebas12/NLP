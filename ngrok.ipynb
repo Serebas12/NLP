{
 "cells": [
  {
   "cell_type": "code",
   "execution_count": 1,
   "metadata": {},
   "outputs": [
    {
     "name": "stdout",
     "output_type": "stream",
     "text": [
      "Token configurado con éxito.                                                                        \n"
     ]
    }
   ],
   "source": [
    "from pyngrok import ngrok\n",
    "\n",
    "# Reemplaza '<TU_AUTHTOKEN>' con tu token\n",
    "ngrok.set_auth_token(\"2p2EqYrooHG9woIPSVGx7gLtuui_3QCRPqrXHvUYk28Pt2UDN\")\n",
    "print(\"Token configurado con éxito.\")\n"
   ]
  },
  {
   "cell_type": "code",
   "execution_count": null,
   "metadata": {},
   "outputs": [],
   "source": [
    "import os\n",
    "from pyngrok import ngrok\n",
    "\n",
    "# Definir el puerto donde Streamlit se ejecutará\n",
    "port = 8501\n",
    "\n",
    "# Iniciar Streamlit como un proceso del sistema\n",
    "os.system(f\"streamlit run app.py &\")  # Reemplaza 'app.py' con el nombre exacto de tu archivo si es diferente\n",
    "\n",
    "# Exponer el puerto 8501 al público utilizando Ngrok\n",
    "public_url = ngrok.connect(port)\n",
    "\n",
    "# Imprimir la URL pública generada por Ngrok\n",
    "print(f\"Tu aplicación está disponible en: {public_url}\")\n",
    "\n",
    "# Mantener la conexión activa\n",
    "input(\"Presiona ENTER para finalizar el túnel y cerrar Streamlit...\")\n"
   ]
  }
 ],
 "metadata": {
  "kernelspec": {
   "display_name": "NLP",
   "language": "python",
   "name": "python3"
  },
  "language_info": {
   "codemirror_mode": {
    "name": "ipython",
    "version": 3
   },
   "file_extension": ".py",
   "mimetype": "text/x-python",
   "name": "python",
   "nbconvert_exporter": "python",
   "pygments_lexer": "ipython3",
   "version": "3.11.9"
  }
 },
 "nbformat": 4,
 "nbformat_minor": 2
}
